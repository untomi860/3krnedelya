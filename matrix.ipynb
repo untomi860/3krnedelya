{
  "nbformat": 4,
  "nbformat_minor": 0,
  "metadata": {
    "colab": {
      "provenance": [],
      "authorship_tag": "ABX9TyOgs5/1RtXuSxdlRFqDfVsW",
      "include_colab_link": true
    },
    "kernelspec": {
      "name": "python3",
      "display_name": "Python 3"
    },
    "language_info": {
      "name": "python"
    }
  },
  "cells": [
    {
      "cell_type": "markdown",
      "metadata": {
        "id": "view-in-github",
        "colab_type": "text"
      },
      "source": [
        "<a href=\"https://colab.research.google.com/github/untomi860/3krnedelya/blob/master/matrix.ipynb\" target=\"_parent\"><img src=\"https://colab.research.google.com/assets/colab-badge.svg\" alt=\"Open In Colab\"/></a>"
      ]
    },
    {
      "cell_type": "code",
      "execution_count": 1,
      "metadata": {
        "colab": {
          "base_uri": "https://localhost:8080/"
        },
        "id": "FVsNOIHEQ9Qf",
        "outputId": "58de3059-2dc6-41cd-9695-017ed14fd969"
      },
      "outputs": [
        {
          "output_type": "stream",
          "name": "stdout",
          "text": [
            "[0.740774899182154, 0.6456563062257954]\n"
          ]
        }
      ],
      "source": [
        "import math\n",
        "\n",
        "def mult2(A, B):\n",
        "  result = []\n",
        "  A_rows = len(A)\n",
        "  A_cols = len(A[0])\n",
        "  B_rows = len(B)\n",
        "  if A_cols != B_rows:\n",
        "    print('kol-vo stlbcov != kolvo strok')\n",
        "    return\n",
        "\n",
        "  result = [0 for col in range(A_rows)]\n",
        "  for s in range(A_rows):\n",
        "      for k in range(A_cols):\n",
        "        result[s] += A[s][k] * B[k]\n",
        "  return result\n",
        "\n",
        "def sigma(x):\n",
        "  return 1 / (1 + math.exp(-x))\n",
        "\n",
        "def f_activate(A):\n",
        "  res = []\n",
        "  for x in A:\n",
        "    res.append(sigma(x))\n",
        "  return res\n",
        "\n",
        "A = [[0.9, 0.3], [0.2, 0.8]]\n",
        "B = [1.0, 0.5]\n",
        "\n",
        "X = mult2(A, B)\n",
        "X = f_activate(X)\n",
        "print(X)"
      ]
    },
    {
      "cell_type": "code",
      "source": [
        "import numpy as np\n",
        "import scipy\n",
        "\n",
        "I = np.array([0.9, 0.1, 0.8], ndmin = 2).T\n",
        "t = np.array([0.7,0.09,0.5], ndmin = 2).T\n",
        "w_i_h = np.array([[0.9, 0.3, 0.4], [0.2, 0.8, 0.2], [0.1, 0.5, 0.6]])\n",
        "w_h_o = np.array([[0.3, 0.7, 0.5], [0.6, 0.5, 0.2], [0.8, 0.1, 0.9]])\n",
        "\n",
        "for i in range(10000):\n",
        "  o_h = w_i_h.dot(I)\n",
        "  o_h = scipy.special.expit(o_h)\n",
        "  o = w_h_o.dot(o_h)\n",
        "  o = scipy.special.expit(o)\n",
        "\n",
        "  E_o = t - o\n",
        "  E_h = np.dot(w_h_o.T, E_o)\n",
        "  w_h_o += 0.1 *E_o*o* (1 - o) * o_h.T\n",
        "  w_i_h += 0.1 *E_h*o_h* (1 - o_h) * I.T\n",
        "\n",
        "print(o)\n",
        "\n",
        "class NeuralNetwork:\n",
        "  def __init__(self, input_nodes, hidden_nodes, output_nodes, learning_rate):\n",
        "    self.input_nodes = input_nodes\n",
        "    self.hidden_nodes = hidden_nodes\n",
        "    self.output_nodes = output_nodes\n",
        "    self.learning_rate = learning_rate\n",
        "\n",
        "\n",
        "    np.random.seed(42)\n",
        "    self.w_i_h = np.random.normal (0.01, 0.99, (hidden_nodes, input_nodes))\n",
        "    self.w_h_o = np.random.normal (0.01, 0.99, (output_nodes, hidden_nodes))\n",
        "\n",
        "  def forward(self, inputs):\n",
        "       inputs = np.array(inputs, ndmin=2).T\n",
        "       o_h= self.w_i_h.dot(I)\n",
        "       o_h = scipy.special.expit(o_h)\n",
        "       o = self.w_h_o.dot(o_h)\n",
        "       o = scipy.special.expit(o)\n",
        "       return o\n",
        "\n",
        "def train (self, inputs_list, targets_list) :\n",
        "      inputs = np.array(inputs_list, ndmin=2).T\n",
        "      targets = np.array(targets_list, ndmin=2).T\n",
        "      hidden_inputs = np.dot(self.wih, inputs)\n",
        "      hidden_outputs = self.activation_function(hidden_inputs)\n",
        "      final_inputs = np.dot(self.who, hidden_outputs)\n",
        "      final_outputs = self.activation_function(final_inputs)\n",
        "      output_errors = targets - final_outputs\n",
        "      hidden_errors = np.dot(self.who.T, output_errors)\n",
        "      self.who += self.lr * np .dot ((output_errors * final_outputs * (1.0 - final_outputs)),np.transpose (hidden_outputs))\n",
        "      self.wih += self.lr * np.dot((hidden_errors * hidden_outputs * (1.0 - hidden_outputs)), np.transpose(inputs))\n",
        "      pass\n",
        "\n",
        "def query(self, inputs_list):\n",
        "      inputs = np.array(inputs, ndmin=2).T\n",
        "      hidden_inputs = np.dot(self.w_i_h, inputs)\n",
        "      hidden_outputs = self.activation_function(hidden_inputs)\n",
        "      final_inputs = np.dot(self.w_h_o, hidden_outputs)\n",
        "      final_outputs = self.activation__function(final_inputs)\n",
        "      return final_outputs\n",
        "\n",
        "I = np.array([0.9, 0.1, 0.8], ndmin = 2).T\n",
        "net = NeuralNetwork(3, 3, 3, 0.1)\n",
        "result = net.forward(I)\n",
        "print(result)"
      ],
      "metadata": {
        "colab": {
          "base_uri": "https://localhost:8080/"
        },
        "id": "odz8RasyRKeT",
        "outputId": "4e1dc15c-0e40-4040-a494-22ba771fec40"
      },
      "execution_count": 2,
      "outputs": [
        {
          "output_type": "stream",
          "name": "stdout",
          "text": [
            "[[0.7 ]\n",
            " [0.09]\n",
            " [0.5 ]]\n",
            "[[0.4286307 ]\n",
            " [0.07316002]\n",
            " [0.28708966]]\n"
          ]
        }
      ]
    }
  ]
}